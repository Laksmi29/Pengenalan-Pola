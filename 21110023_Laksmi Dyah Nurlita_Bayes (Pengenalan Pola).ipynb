{
  "nbformat": 4,
  "nbformat_minor": 0,
  "metadata": {
    "colab": {
      "provenance": []
    },
    "kernelspec": {
      "name": "python3",
      "display_name": "Python 3"
    },
    "language_info": {
      "name": "python"
    }
  },
  "cells": [
    {
      "cell_type": "markdown",
      "source": [
        "# Nama: Laksmi Dyah Nurlita\n",
        "# NIM: 21110023"
      ],
      "metadata": {
        "id": "PuuV7CBeVxdq"
      }
    },
    {
      "cell_type": "markdown",
      "source": [
        "# **Import Data**"
      ],
      "metadata": {
        "id": "UvqzLKmjUI7R"
      }
    },
    {
      "cell_type": "markdown",
      "source": [
        "1. Data diperoleh dari Kaggle, yaitu data klasifikasi penderita diabetes atau tidak (https://www.kaggle.com/datasets/himanshunakrani/naive-bayes-classification-data).\n",
        "2. Dataset tersebut memiliki 3 kolom, yaitu kolom glucose, bloodpressure dan diabetes."
      ],
      "metadata": {
        "id": "Rb4yR5SjUaGj"
      }
    },
    {
      "cell_type": "code",
      "execution_count": null,
      "metadata": {
        "id": "QYqjchiGVwgb"
      },
      "outputs": [],
      "source": [
        "import numpy as np\n",
        "import matplotlib.pyplot as plt\n",
        "import pandas as pd\n",
        "import seaborn as sns"
      ]
    },
    {
      "cell_type": "code",
      "source": [
        "#Import dataset\n",
        "dataset = pd.read_csv('diabetes.csv')\n",
        "\n",
        "#Print dataset 5 teratas\n",
        "dataset.head()"
      ],
      "metadata": {
        "colab": {
          "base_uri": "https://localhost:8080/",
          "height": 206
        },
        "id": "9KFskAtoWta2",
        "outputId": "5bb80fc6-37f1-44a2-e26f-4e60eba84a1d"
      },
      "execution_count": null,
      "outputs": [
        {
          "output_type": "execute_result",
          "data": {
            "text/plain": [
              "   glucose  bloodpressure  diabetes\n",
              "0       40             85         0\n",
              "1       40             92         0\n",
              "2       45             63         1\n",
              "3       45             80         0\n",
              "4       40             73         1"
            ],
            "text/html": [
              "\n",
              "  <div id=\"df-904ec60e-3580-459a-8dbd-826588d56b2d\" class=\"colab-df-container\">\n",
              "    <div>\n",
              "<style scoped>\n",
              "    .dataframe tbody tr th:only-of-type {\n",
              "        vertical-align: middle;\n",
              "    }\n",
              "\n",
              "    .dataframe tbody tr th {\n",
              "        vertical-align: top;\n",
              "    }\n",
              "\n",
              "    .dataframe thead th {\n",
              "        text-align: right;\n",
              "    }\n",
              "</style>\n",
              "<table border=\"1\" class=\"dataframe\">\n",
              "  <thead>\n",
              "    <tr style=\"text-align: right;\">\n",
              "      <th></th>\n",
              "      <th>glucose</th>\n",
              "      <th>bloodpressure</th>\n",
              "      <th>diabetes</th>\n",
              "    </tr>\n",
              "  </thead>\n",
              "  <tbody>\n",
              "    <tr>\n",
              "      <th>0</th>\n",
              "      <td>40</td>\n",
              "      <td>85</td>\n",
              "      <td>0</td>\n",
              "    </tr>\n",
              "    <tr>\n",
              "      <th>1</th>\n",
              "      <td>40</td>\n",
              "      <td>92</td>\n",
              "      <td>0</td>\n",
              "    </tr>\n",
              "    <tr>\n",
              "      <th>2</th>\n",
              "      <td>45</td>\n",
              "      <td>63</td>\n",
              "      <td>1</td>\n",
              "    </tr>\n",
              "    <tr>\n",
              "      <th>3</th>\n",
              "      <td>45</td>\n",
              "      <td>80</td>\n",
              "      <td>0</td>\n",
              "    </tr>\n",
              "    <tr>\n",
              "      <th>4</th>\n",
              "      <td>40</td>\n",
              "      <td>73</td>\n",
              "      <td>1</td>\n",
              "    </tr>\n",
              "  </tbody>\n",
              "</table>\n",
              "</div>\n",
              "    <div class=\"colab-df-buttons\">\n",
              "\n",
              "  <div class=\"colab-df-container\">\n",
              "    <button class=\"colab-df-convert\" onclick=\"convertToInteractive('df-904ec60e-3580-459a-8dbd-826588d56b2d')\"\n",
              "            title=\"Convert this dataframe to an interactive table.\"\n",
              "            style=\"display:none;\">\n",
              "\n",
              "  <svg xmlns=\"http://www.w3.org/2000/svg\" height=\"24px\" viewBox=\"0 -960 960 960\">\n",
              "    <path d=\"M120-120v-720h720v720H120Zm60-500h600v-160H180v160Zm220 220h160v-160H400v160Zm0 220h160v-160H400v160ZM180-400h160v-160H180v160Zm440 0h160v-160H620v160ZM180-180h160v-160H180v160Zm440 0h160v-160H620v160Z\"/>\n",
              "  </svg>\n",
              "    </button>\n",
              "\n",
              "  <style>\n",
              "    .colab-df-container {\n",
              "      display:flex;\n",
              "      gap: 12px;\n",
              "    }\n",
              "\n",
              "    .colab-df-convert {\n",
              "      background-color: #E8F0FE;\n",
              "      border: none;\n",
              "      border-radius: 50%;\n",
              "      cursor: pointer;\n",
              "      display: none;\n",
              "      fill: #1967D2;\n",
              "      height: 32px;\n",
              "      padding: 0 0 0 0;\n",
              "      width: 32px;\n",
              "    }\n",
              "\n",
              "    .colab-df-convert:hover {\n",
              "      background-color: #E2EBFA;\n",
              "      box-shadow: 0px 1px 2px rgba(60, 64, 67, 0.3), 0px 1px 3px 1px rgba(60, 64, 67, 0.15);\n",
              "      fill: #174EA6;\n",
              "    }\n",
              "\n",
              "    .colab-df-buttons div {\n",
              "      margin-bottom: 4px;\n",
              "    }\n",
              "\n",
              "    [theme=dark] .colab-df-convert {\n",
              "      background-color: #3B4455;\n",
              "      fill: #D2E3FC;\n",
              "    }\n",
              "\n",
              "    [theme=dark] .colab-df-convert:hover {\n",
              "      background-color: #434B5C;\n",
              "      box-shadow: 0px 1px 3px 1px rgba(0, 0, 0, 0.15);\n",
              "      filter: drop-shadow(0px 1px 2px rgba(0, 0, 0, 0.3));\n",
              "      fill: #FFFFFF;\n",
              "    }\n",
              "  </style>\n",
              "\n",
              "    <script>\n",
              "      const buttonEl =\n",
              "        document.querySelector('#df-904ec60e-3580-459a-8dbd-826588d56b2d button.colab-df-convert');\n",
              "      buttonEl.style.display =\n",
              "        google.colab.kernel.accessAllowed ? 'block' : 'none';\n",
              "\n",
              "      async function convertToInteractive(key) {\n",
              "        const element = document.querySelector('#df-904ec60e-3580-459a-8dbd-826588d56b2d');\n",
              "        const dataTable =\n",
              "          await google.colab.kernel.invokeFunction('convertToInteractive',\n",
              "                                                    [key], {});\n",
              "        if (!dataTable) return;\n",
              "\n",
              "        const docLinkHtml = 'Like what you see? Visit the ' +\n",
              "          '<a target=\"_blank\" href=https://colab.research.google.com/notebooks/data_table.ipynb>data table notebook</a>'\n",
              "          + ' to learn more about interactive tables.';\n",
              "        element.innerHTML = '';\n",
              "        dataTable['output_type'] = 'display_data';\n",
              "        await google.colab.output.renderOutput(dataTable, element);\n",
              "        const docLink = document.createElement('div');\n",
              "        docLink.innerHTML = docLinkHtml;\n",
              "        element.appendChild(docLink);\n",
              "      }\n",
              "    </script>\n",
              "  </div>\n",
              "\n",
              "\n",
              "<div id=\"df-dbfc1756-0860-4e06-8039-6966dee75d3e\">\n",
              "  <button class=\"colab-df-quickchart\" onclick=\"quickchart('df-dbfc1756-0860-4e06-8039-6966dee75d3e')\"\n",
              "            title=\"Suggest charts\"\n",
              "            style=\"display:none;\">\n",
              "\n",
              "<svg xmlns=\"http://www.w3.org/2000/svg\" height=\"24px\"viewBox=\"0 0 24 24\"\n",
              "     width=\"24px\">\n",
              "    <g>\n",
              "        <path d=\"M19 3H5c-1.1 0-2 .9-2 2v14c0 1.1.9 2 2 2h14c1.1 0 2-.9 2-2V5c0-1.1-.9-2-2-2zM9 17H7v-7h2v7zm4 0h-2V7h2v10zm4 0h-2v-4h2v4z\"/>\n",
              "    </g>\n",
              "</svg>\n",
              "  </button>\n",
              "\n",
              "<style>\n",
              "  .colab-df-quickchart {\n",
              "      --bg-color: #E8F0FE;\n",
              "      --fill-color: #1967D2;\n",
              "      --hover-bg-color: #E2EBFA;\n",
              "      --hover-fill-color: #174EA6;\n",
              "      --disabled-fill-color: #AAA;\n",
              "      --disabled-bg-color: #DDD;\n",
              "  }\n",
              "\n",
              "  [theme=dark] .colab-df-quickchart {\n",
              "      --bg-color: #3B4455;\n",
              "      --fill-color: #D2E3FC;\n",
              "      --hover-bg-color: #434B5C;\n",
              "      --hover-fill-color: #FFFFFF;\n",
              "      --disabled-bg-color: #3B4455;\n",
              "      --disabled-fill-color: #666;\n",
              "  }\n",
              "\n",
              "  .colab-df-quickchart {\n",
              "    background-color: var(--bg-color);\n",
              "    border: none;\n",
              "    border-radius: 50%;\n",
              "    cursor: pointer;\n",
              "    display: none;\n",
              "    fill: var(--fill-color);\n",
              "    height: 32px;\n",
              "    padding: 0;\n",
              "    width: 32px;\n",
              "  }\n",
              "\n",
              "  .colab-df-quickchart:hover {\n",
              "    background-color: var(--hover-bg-color);\n",
              "    box-shadow: 0 1px 2px rgba(60, 64, 67, 0.3), 0 1px 3px 1px rgba(60, 64, 67, 0.15);\n",
              "    fill: var(--button-hover-fill-color);\n",
              "  }\n",
              "\n",
              "  .colab-df-quickchart-complete:disabled,\n",
              "  .colab-df-quickchart-complete:disabled:hover {\n",
              "    background-color: var(--disabled-bg-color);\n",
              "    fill: var(--disabled-fill-color);\n",
              "    box-shadow: none;\n",
              "  }\n",
              "\n",
              "  .colab-df-spinner {\n",
              "    border: 2px solid var(--fill-color);\n",
              "    border-color: transparent;\n",
              "    border-bottom-color: var(--fill-color);\n",
              "    animation:\n",
              "      spin 1s steps(1) infinite;\n",
              "  }\n",
              "\n",
              "  @keyframes spin {\n",
              "    0% {\n",
              "      border-color: transparent;\n",
              "      border-bottom-color: var(--fill-color);\n",
              "      border-left-color: var(--fill-color);\n",
              "    }\n",
              "    20% {\n",
              "      border-color: transparent;\n",
              "      border-left-color: var(--fill-color);\n",
              "      border-top-color: var(--fill-color);\n",
              "    }\n",
              "    30% {\n",
              "      border-color: transparent;\n",
              "      border-left-color: var(--fill-color);\n",
              "      border-top-color: var(--fill-color);\n",
              "      border-right-color: var(--fill-color);\n",
              "    }\n",
              "    40% {\n",
              "      border-color: transparent;\n",
              "      border-right-color: var(--fill-color);\n",
              "      border-top-color: var(--fill-color);\n",
              "    }\n",
              "    60% {\n",
              "      border-color: transparent;\n",
              "      border-right-color: var(--fill-color);\n",
              "    }\n",
              "    80% {\n",
              "      border-color: transparent;\n",
              "      border-right-color: var(--fill-color);\n",
              "      border-bottom-color: var(--fill-color);\n",
              "    }\n",
              "    90% {\n",
              "      border-color: transparent;\n",
              "      border-bottom-color: var(--fill-color);\n",
              "    }\n",
              "  }\n",
              "</style>\n",
              "\n",
              "  <script>\n",
              "    async function quickchart(key) {\n",
              "      const quickchartButtonEl =\n",
              "        document.querySelector('#' + key + ' button');\n",
              "      quickchartButtonEl.disabled = true;  // To prevent multiple clicks.\n",
              "      quickchartButtonEl.classList.add('colab-df-spinner');\n",
              "      try {\n",
              "        const charts = await google.colab.kernel.invokeFunction(\n",
              "            'suggestCharts', [key], {});\n",
              "      } catch (error) {\n",
              "        console.error('Error during call to suggestCharts:', error);\n",
              "      }\n",
              "      quickchartButtonEl.classList.remove('colab-df-spinner');\n",
              "      quickchartButtonEl.classList.add('colab-df-quickchart-complete');\n",
              "    }\n",
              "    (() => {\n",
              "      let quickchartButtonEl =\n",
              "        document.querySelector('#df-dbfc1756-0860-4e06-8039-6966dee75d3e button');\n",
              "      quickchartButtonEl.style.display =\n",
              "        google.colab.kernel.accessAllowed ? 'block' : 'none';\n",
              "    })();\n",
              "  </script>\n",
              "</div>\n",
              "    </div>\n",
              "  </div>\n"
            ],
            "application/vnd.google.colaboratory.intrinsic+json": {
              "type": "dataframe",
              "variable_name": "dataset",
              "summary": "{\n  \"name\": \"dataset\",\n  \"rows\": 995,\n  \"fields\": [\n    {\n      \"column\": \"glucose\",\n      \"properties\": {\n        \"dtype\": \"number\",\n        \"std\": 6,\n        \"min\": 20,\n        \"max\": 70,\n        \"num_unique_values\": 11,\n        \"samples\": [\n          50,\n          40,\n          20\n        ],\n        \"semantic_type\": \"\",\n        \"description\": \"\"\n      }\n    },\n    {\n      \"column\": \"bloodpressure\",\n      \"properties\": {\n        \"dtype\": \"number\",\n        \"std\": 9,\n        \"min\": 50,\n        \"max\": 100,\n        \"num_unique_values\": 29,\n        \"samples\": [\n          52,\n          98,\n          75\n        ],\n        \"semantic_type\": \"\",\n        \"description\": \"\"\n      }\n    },\n    {\n      \"column\": \"diabetes\",\n      \"properties\": {\n        \"dtype\": \"number\",\n        \"std\": 0,\n        \"min\": 0,\n        \"max\": 1,\n        \"num_unique_values\": 2,\n        \"samples\": [\n          1,\n          0\n        ],\n        \"semantic_type\": \"\",\n        \"description\": \"\"\n      }\n    }\n  ]\n}"
            }
          },
          "metadata": {},
          "execution_count": 2
        }
      ]
    },
    {
      "cell_type": "code",
      "source": [
        "#Dimensi data\n",
        "dataset.shape"
      ],
      "metadata": {
        "colab": {
          "base_uri": "https://localhost:8080/"
        },
        "id": "7Xyfx-M8W7-Y",
        "outputId": "422de2ae-c1c6-4ad2-984a-e5274ab64381"
      },
      "execution_count": null,
      "outputs": [
        {
          "output_type": "execute_result",
          "data": {
            "text/plain": [
              "(995, 3)"
            ]
          },
          "metadata": {},
          "execution_count": 3
        }
      ]
    },
    {
      "cell_type": "markdown",
      "source": [
        "Output: terdiri dari 995 baris dan 3 kolom"
      ],
      "metadata": {
        "id": "3Yz3Xi0RXF0o"
      }
    },
    {
      "cell_type": "code",
      "source": [
        "#Melihat informasi\n",
        "dataset.info()"
      ],
      "metadata": {
        "colab": {
          "base_uri": "https://localhost:8080/"
        },
        "id": "g2S8x7GtXAox",
        "outputId": "71f62650-c49b-497e-ff00-e230780cdfa6"
      },
      "execution_count": null,
      "outputs": [
        {
          "output_type": "stream",
          "name": "stdout",
          "text": [
            "<class 'pandas.core.frame.DataFrame'>\n",
            "RangeIndex: 995 entries, 0 to 994\n",
            "Data columns (total 3 columns):\n",
            " #   Column         Non-Null Count  Dtype\n",
            "---  ------         --------------  -----\n",
            " 0   glucose        995 non-null    int64\n",
            " 1   bloodpressure  995 non-null    int64\n",
            " 2   diabetes       995 non-null    int64\n",
            "dtypes: int64(3)\n",
            "memory usage: 23.4 KB\n"
          ]
        }
      ]
    },
    {
      "cell_type": "markdown",
      "source": [
        "Output: terdiri dari 955 baris dari index 0-9,94 memiliki total 3 kolom yg memiliki masing-masing data non-null. setiap kolom memiliki type data integer 64 bit"
      ],
      "metadata": {
        "id": "JMU_pZbuXVYQ"
      }
    },
    {
      "cell_type": "markdown",
      "source": [
        "# **Split Data**"
      ],
      "metadata": {
        "id": "laGNb-p6Rbva"
      }
    },
    {
      "cell_type": "code",
      "source": [
        "x = dataset.iloc[:, :-1].values\n",
        "y = dataset.iloc[:, -1].values"
      ],
      "metadata": {
        "id": "sgSsbzJ1XObU"
      },
      "execution_count": null,
      "outputs": []
    },
    {
      "cell_type": "markdown",
      "source": [
        "output: Dalam memprediksi apakah seseorang menderita diabetes atau tidak, maka pada variabel y untuk kolom 'diabetes' dan variabel x untuk kolom 'glucose' dan 'bloodpressure'"
      ],
      "metadata": {
        "id": "LUeH4nEqRfhV"
      }
    },
    {
      "cell_type": "code",
      "source": [
        "#Memisahkan data menjadi train dan test\n",
        "from sklearn.model_selection import train_test_split\n",
        "\n",
        "#Masukkan ukuran test sebesar 25%\n",
        "x_train, x_test, y_train, y_test = train_test_split(x, y, test_size = 0.25, random_state = 0)"
      ],
      "metadata": {
        "id": "mEbZKeb-X64A"
      },
      "execution_count": null,
      "outputs": []
    },
    {
      "cell_type": "markdown",
      "source": [
        "**Scaling**\n",
        "> Data yang dimasukkan bisa terdistribusi"
      ],
      "metadata": {
        "id": "dHh5hdIoYtNg"
      }
    },
    {
      "cell_type": "code",
      "source": [
        "from sklearn.preprocessing import StandardScaler\n",
        "\n",
        "#Scaling input data\n",
        "sc_x = StandardScaler()\n",
        "x_train = sc_x.fit_transform(x_train)\n",
        "x_test = sc_x.fit_transform(x_test)"
      ],
      "metadata": {
        "id": "eU2fiOmFYWAz"
      },
      "execution_count": null,
      "outputs": []
    },
    {
      "cell_type": "markdown",
      "source": [
        "# **Bernoulli**\n",
        "> Salah satu jenis algoritma klasifikasi yang merupakan variasi dari algoritma Naive Bayes. Cocok digunakan pada data ketegorikal biner (0 dan 1) yang memprediksi kelas output diskrit."
      ],
      "metadata": {
        "id": "tMIUm4fTZOi2"
      }
    },
    {
      "cell_type": "code",
      "source": [
        "from sklearn.naive_bayes import BernoulliNB\n",
        "\n",
        "#Buat objek classifier\n",
        "classifier_bern = BernoulliNB()\n",
        "\n",
        "#Training model\n",
        "classifier_bern.fit(x_train, y_train)\n",
        "\n",
        "#Testing model\n",
        "y_pred_bern = classifier_bern.predict(x_test)"
      ],
      "metadata": {
        "id": "0S92gyxiZJx1"
      },
      "execution_count": null,
      "outputs": []
    },
    {
      "cell_type": "markdown",
      "source": [
        "Output: sudah melatih model dgn data x_train dan y_train. Kemudian, memprediksi data x_test menggunakan model tersebut. Hasil disimpan dalam variabel y_pred_bern"
      ],
      "metadata": {
        "id": "pN76pXJhaL0X"
      }
    },
    {
      "cell_type": "markdown",
      "source": [
        "**Akurasi Bernoulli**"
      ],
      "metadata": {
        "id": "ilckm12rahwg"
      }
    },
    {
      "cell_type": "code",
      "source": [
        "from sklearn.metrics import accuracy_score\n",
        "\n",
        "#Print akurasi model\n",
        "print(\"Accuracy: \", accuracy_score(y_pred_bern, y_test))\n",
        "print(\"F1 Score: \", f1_score(y_pred_bern, y_test))"
      ],
      "metadata": {
        "colab": {
          "base_uri": "https://localhost:8080/"
        },
        "id": "GOKVdZj5aHpX",
        "outputId": "11caf2ef-0b15-4269-b946-e1e378b9cf3c"
      },
      "execution_count": null,
      "outputs": [
        {
          "output_type": "stream",
          "name": "stdout",
          "text": [
            "Accuracy:  0.8714859437751004\n",
            "F1 Score:  0.8787878787878788\n"
          ]
        }
      ]
    },
    {
      "cell_type": "markdown",
      "source": [
        "Output: Akurasi model dgn membandingkan hasil prediksi dengan hasil sesungguhnya dan mendapatkan nilai 0,87 atau 87% yang berarti model dapat memprediksi 87% data secara akurat."
      ],
      "metadata": {
        "id": "C7F01dZLa8EI"
      }
    },
    {
      "cell_type": "markdown",
      "source": [
        "Evaluasi Bernoulli"
      ],
      "metadata": {
        "id": "aByLHQp8dHsp"
      }
    },
    {
      "cell_type": "code",
      "source": [
        "from sklearn.metrics import confusion_matrix\n",
        "\n",
        "#Membandingkan data test dan data prediksi\n",
        "cm = confusion_matrix(y_test, y_pred_bern)\n",
        "\n",
        "#Nilai data di setiap bagian matriks\n",
        "sns.heatmap(cm, annot = True)\n",
        "plt.savefig('Confusion_bern.png')"
      ],
      "metadata": {
        "colab": {
          "base_uri": "https://localhost:8080/",
          "height": 430
        },
        "id": "ffTwx393dKkK",
        "outputId": "5e33ee8d-17c7-4cec-b968-0f968fbecb5f"
      },
      "execution_count": null,
      "outputs": [
        {
          "output_type": "display_data",
          "data": {
            "text/plain": [
              "<Figure size 640x480 with 2 Axes>"
            ],
            "image/png": "[encoded data removed]"
          },
          "metadata": {}
        }
      ]
    },
    {
      "cell_type": "markdown",
      "source": [
        "Output: Pada baris pertama kolom pertama terdapat 1e+02 label '0' yang diprediksi dengan benar, pada baris pertama kolom kedua terdapat 3 label'0' yang diprediksi sebagai label '1', sehingga diprediksi dengan salah. Pada baris pertama kolom kedua terdapat 29 label '1' yang diprediksi dengan benar, pada baris pertama kolom kedua terdapat 1.2e+02 label'1' yang diprediksi dengan benar."
      ],
      "metadata": {
        "id": "RejzhvKgggCp"
      }
    },
    {
      "cell_type": "code",
      "source": [
        "from sklearn.metrics import classification_report\n",
        "\n",
        "#Tampilkan classification report bernoulli\n",
        "print(classification_report(y_test, y_pred_bern))"
      ],
      "metadata": {
        "colab": {
          "base_uri": "https://localhost:8080/"
        },
        "id": "w-2YhCrdfVg7",
        "outputId": "6416d812-daa8-4af7-cae9-1ed2aef6f758"
      },
      "execution_count": null,
      "outputs": [
        {
          "output_type": "stream",
          "name": "stdout",
          "text": [
            "              precision    recall  f1-score   support\n",
            "\n",
            "           0       0.78      0.97      0.86       104\n",
            "           1       0.97      0.80      0.88       145\n",
            "\n",
            "    accuracy                           0.87       249\n",
            "   macro avg       0.88      0.89      0.87       249\n",
            "weighted avg       0.89      0.87      0.87       249\n",
            "\n"
          ]
        }
      ]
    },
    {
      "cell_type": "markdown",
      "source": [
        "**Gaussian Naive Bayes**\n",
        "> Digunakan dalam data berdistribusi normal."
      ],
      "metadata": {
        "id": "mCtL6B4ubRRs"
      }
    },
    {
      "cell_type": "code",
      "source": [
        "from sklearn.naive_bayes import GaussianNB\n",
        "\n",
        "#Buat objek classifier\n",
        "classifier_gaus = GaussianNB()\n",
        "\n",
        "#Training model\n",
        "classifier_gaus.fit(x_train, y_train)\n",
        "\n",
        "#Testing model\n",
        "y_pred_gaus = classifier_gaus.predict(x_test)"
      ],
      "metadata": {
        "id": "c20dE7yya0HF"
      },
      "execution_count": null,
      "outputs": []
    },
    {
      "cell_type": "markdown",
      "source": [
        "Output: sudah melatih model dgn data x_train dan y_train. Kemudian, memprediksi data x_test menggunakan model tersebut. Hasil disimpan dalam variabel y_pred_gaus"
      ],
      "metadata": {
        "id": "ymZV5dpSSana"
      }
    },
    {
      "cell_type": "markdown",
      "source": [
        "Akurasi Gaussian"
      ],
      "metadata": {
        "id": "jVUQDbv-cnqE"
      }
    },
    {
      "cell_type": "code",
      "source": [
        "#Print akurasi model\n",
        "print(\"Accuracy: \", accuracy_score(y_test, y_pred_gaus))\n",
        "print(\"F1 Score: \", f1_score(y_test, y_pred_gaus))"
      ],
      "metadata": {
        "colab": {
          "base_uri": "https://localhost:8080/"
        },
        "id": "ucZ1HZlvcmM5",
        "outputId": "f0206ee3-86f9-4e90-a765-7440c1173dc2"
      },
      "execution_count": null,
      "outputs": [
        {
          "output_type": "stream",
          "name": "stdout",
          "text": [
            "Accuracy:  0.8875502008032129\n",
            "F1 Score:  0.8947368421052632\n"
          ]
        }
      ]
    },
    {
      "cell_type": "markdown",
      "source": [
        "Output: Akurasi model dgn membandingkan hasil prediksi dengan hasil sesungguhnya dan mendapatkan nilai 0,89 atau 89% yang berarti model dapat memprediksi 89% data secara akurat."
      ],
      "metadata": {
        "id": "p_v-YfK7c9-j"
      }
    },
    {
      "cell_type": "markdown",
      "source": [
        "Evaluasi Gaussian"
      ],
      "metadata": {
        "id": "uK5f3hoIfphj"
      }
    },
    {
      "cell_type": "code",
      "source": [
        "#Membandingkan data test dan data prediksi\n",
        "cm = confusion_matrix(y_test, y_pred_gaus)\n",
        "\n",
        "#Nilai data di setiap bagian matriks\n",
        "sns.heatmap(cm, annot = True)\n",
        "plt.savefig('Confusion_gaus.png')"
      ],
      "metadata": {
        "colab": {
          "base_uri": "https://localhost:8080/",
          "height": 430
        },
        "id": "k8WQJR-dcx7l",
        "outputId": "a561d590-ece6-4dd4-f7b8-5791e5e6f6d6"
      },
      "execution_count": null,
      "outputs": [
        {
          "output_type": "display_data",
          "data": {
            "text/plain": [
              "<Figure size 640x480 with 2 Axes>"
            ],
            "image/png": "[encoded data removed]"
          },
          "metadata": {}
        }
      ]
    },
    {
      "cell_type": "markdown",
      "source": [
        "Output: Pada baris pertama kolom pertama terdapat 64 label '0' yang diprediksi dengan benar, pada baris pertama kolom kedua terdapat 4 label'0' yang diprediksi sebagai label '1', sehingga diprediksi dengan salah. Pada baris pertama kolom kedua terdapat 5 label '1' yang diprediksi dengan benar, pada baris pertama kolom kedua terdapat 27 label'1' yang diprediksi dengan benar."
      ],
      "metadata": {
        "id": "wrevuw5iiUUf"
      }
    },
    {
      "cell_type": "code",
      "source": [
        "#Tampilkan classification report bernoulli\n",
        "print(classification_report(y_test, y_pred_gaus))"
      ],
      "metadata": {
        "colab": {
          "base_uri": "https://localhost:8080/"
        },
        "id": "8HvD5mY2f16u",
        "outputId": "05e1582f-dd55-48d4-be0f-4ac7b1f5962c"
      },
      "execution_count": null,
      "outputs": [
        {
          "output_type": "stream",
          "name": "stdout",
          "text": [
            "              precision    recall  f1-score   support\n",
            "\n",
            "           0       0.80      0.98      0.88       104\n",
            "           1       0.98      0.82      0.89       145\n",
            "\n",
            "    accuracy                           0.89       249\n",
            "   macro avg       0.89      0.90      0.89       249\n",
            "weighted avg       0.91      0.89      0.89       249\n",
            "\n"
          ]
        }
      ]
    }
  ]
}